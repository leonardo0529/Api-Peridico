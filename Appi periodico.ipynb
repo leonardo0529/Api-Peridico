{
 "cells": [
  {
   "cell_type": "code",
   "execution_count": 1,
   "metadata": {},
   "outputs": [],
   "source": [
    "#Librerias\n",
    "from selenium import webdriver \n",
    "from selenium.webdriver.common.keys import Keys\n",
    "from selenium.webdriver.support.ui import WebDriverWait\n",
    "from selenium.webdriver.support import expected_conditions as EC \n",
    "from selenium.webdriver.common.by import By\n",
    "import time\n",
    "import os"
   ]
  },
  {
   "cell_type": "code",
   "execution_count": 5,
   "metadata": {},
   "outputs": [
    {
     "data": {
      "text/plain": [
       "'Periodico_3_7_2022.pdf'"
      ]
     },
     "execution_count": 5,
     "metadata": {},
     "output_type": "execute_result"
    }
   ],
   "source": [
    "fecha=time.localtime()\n",
    "titulo=\"Periódico_\"+str(fecha.tm_mday)+\"_\"+str(fecha.tm_mon)+\"_\"+str(fecha.tm_year)+\".pdf\"\n",
    "titulo"
   ]
  },
  {
   "cell_type": "code",
   "execution_count": 3,
   "metadata": {},
   "outputs": [
    {
     "name": "stderr",
     "output_type": "stream",
     "text": [
      "C:\\Users\\leona\\AppData\\Local\\Continuum\\anaconda3\\lib\\site-packages\\ipykernel_launcher.py:6: DeprecationWarning: executable_path has been deprecated, please pass in a Service object\n",
      "  \n",
      "C:\\Users\\leona\\AppData\\Local\\Continuum\\anaconda3\\lib\\site-packages\\ipykernel_launcher.py:6: DeprecationWarning: use options instead of chrome_options\n",
      "  \n"
     ]
    }
   ],
   "source": [
    "options=webdriver.ChromeOptions()\n",
    "options.add_argument(\"--start-maximized\")#inicializa maximizado\n",
    "options.add_argument(\"--disable-extensions\")#nos desabilite las extensiones\n",
    "options.add_experimental_option(\"prefs\",{\"download.default_directory\":'C:\\\\OneDrive\\Escritorio\\Periodicos',})\n",
    "driver_part=\"chromedriver.exe\"\n",
    "driver=webdriver.Chrome(driver_part,chrome_options=options)\n",
    "url='https://www.elfinanciero.com.mx/graficos/edicion-impresa/flip/el-financiero.html'\n",
    "driver.get(url)\n",
    "xpath_b1='/html/body/div/div[4]/div[9]'\n",
    "boton1=WebDriverWait(driver,40).until(EC.element_to_be_clickable((By.XPATH,xpath_b1)))\n",
    "boton1.click()\n",
    "xpath_b2='/html/body/div/div[4]/div[9]/div/a'\n",
    "boton2=WebDriverWait(driver,10).until(EC.element_to_be_clickable((By.XPATH,xpath_b2)))\n",
    "boton2.click()"
   ]
  },
  {
   "cell_type": "code",
   "execution_count": 4,
   "metadata": {},
   "outputs": [],
   "source": [
    "os.rename(\"C:\\\\OneDrive\\Escritorio\\Periodicos\\edicion-digital.pdf\", titulo)\n",
    "os.startfile(titulo)\n"
   ]
  },
  {
   "cell_type": "code",
   "execution_count": null,
   "metadata": {},
   "outputs": [],
   "source": []
  }
 ],
 "metadata": {
  "kernelspec": {
   "display_name": "Python 3",
   "language": "python",
   "name": "python3"
  },
  "language_info": {
   "codemirror_mode": {
    "name": "ipython",
    "version": 3
   },
   "file_extension": ".py",
   "mimetype": "text/x-python",
   "name": "python",
   "nbconvert_exporter": "python",
   "pygments_lexer": "ipython3",
   "version": "3.7.0"
  }
 },
 "nbformat": 4,
 "nbformat_minor": 2
}
